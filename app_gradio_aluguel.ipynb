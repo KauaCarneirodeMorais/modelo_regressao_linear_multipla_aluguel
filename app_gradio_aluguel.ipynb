{
 "cells": [
  {
   "cell_type": "code",
   "execution_count": 16,
   "metadata": {},
   "outputs": [],
   "source": [
    "import gradio as gr\n",
    "import joblib\n",
    "import pandas as pd"
   ]
  },
  {
   "cell_type": "code",
   "execution_count": 17,
   "metadata": {},
   "outputs": [],
   "source": [
    "modelo = joblib.load('./modelo_aluguel.pkl')"
   ]
  },
  {
   "cell_type": "code",
   "execution_count": 18,
   "metadata": {},
   "outputs": [],
   "source": [
    "def predict(tamanho_m2, n_quartos, idade_casa, garagem,\tlocalizacao_Periferia, localizacao_Subúrbio):\n",
    "    predicao = {\n",
    "    \"tamanho_m2\": tamanho_m2,\n",
    "    \"n_quartos\": n_quartos,\n",
    "    \"idade_casa\": idade_casa,\n",
    "    \"garagem\": garagem,\n",
    "    \"localizacao_Periferia\": localizacao_Periferia,\n",
    "    \"localizacao_Subúrbio\": localizacao_Subúrbio\n",
    "    }\n",
    "    sample_df = pd.DataFrame(predicao, index=[1])\n",
    "    colesterol = modelo.predict(sample_df)\n",
    "    return colesterol.item(0)"
   ]
  },
  {
   "cell_type": "code",
   "execution_count": 19,
   "metadata": {},
   "outputs": [],
   "source": [
    "demo = gr.Interface(\n",
    "    fn=predict,\n",
    "    inputs=[\n",
    "        gr.Slider(50.82, 198.00, step=1),\n",
    "        gr.Slider(1, 5, step=1),\n",
    "        gr.Slider(0, 49, step=1),\n",
    "        gr.Slider(0, 1, step=1),\n",
    "        'checkbox',\n",
    "        'checkbox',\n",
    "        ],\n",
    "    outputs=['number']\n",
    ")\n"
   ]
  },
  {
   "cell_type": "code",
   "execution_count": 20,
   "metadata": {},
   "outputs": [
    {
     "name": "stdout",
     "output_type": "stream",
     "text": [
      "* Running on local URL:  http://127.0.0.1:7865\n",
      "* To create a public link, set `share=True` in `launch()`.\n"
     ]
    },
    {
     "data": {
      "text/html": [
       "<div><iframe src=\"http://127.0.0.1:7865/\" width=\"100%\" height=\"500\" allow=\"autoplay; camera; microphone; clipboard-read; clipboard-write;\" frameborder=\"0\" allowfullscreen></iframe></div>"
      ],
      "text/plain": [
       "<IPython.core.display.HTML object>"
      ]
     },
     "metadata": {},
     "output_type": "display_data"
    },
    {
     "data": {
      "text/plain": []
     },
     "execution_count": 20,
     "metadata": {},
     "output_type": "execute_result"
    }
   ],
   "source": [
    "demo.launch()"
   ]
  }
 ],
 "metadata": {
  "kernelspec": {
   "display_name": "desafio_5_regressao_linear_multipla-YAcpmR6H",
   "language": "python",
   "name": "python3"
  },
  "language_info": {
   "codemirror_mode": {
    "name": "ipython",
    "version": 3
   },
   "file_extension": ".py",
   "mimetype": "text/x-python",
   "name": "python",
   "nbconvert_exporter": "python",
   "pygments_lexer": "ipython3",
   "version": "3.12.9"
  }
 },
 "nbformat": 4,
 "nbformat_minor": 2
}
